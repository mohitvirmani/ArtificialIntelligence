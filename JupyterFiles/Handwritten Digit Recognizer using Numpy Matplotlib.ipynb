{
 "cells": [
  {
   "cell_type": "code",
   "execution_count": 12,
   "metadata": {},
   "outputs": [
    {
     "name": "stdout",
     "output_type": "stream",
     "text": [
      "Accuracy= 83.5904761904762\n",
      "[5]\n"
     ]
    },
    {
     "data": {
      "image/png": "[encoded data removed]",
      "text/plain": [
       "<Figure size 432x288 with 1 Axes>"
      ]
     },
     "metadata": {
      "needs_background": "light"
     },
     "output_type": "display_data"
    }
   ],
   "source": [
    "import sys\n",
    "import numpy as np\n",
    "import matplotlib.pyplot as plt\n",
    "import pandas as pd\n",
    "from sklearn.tree import DecisionTreeClassifier\n",
    "\n",
    "#data=pd.read_csv(\"/home/pawan/Desktop/train.csv\") #provide the path where the train.csv file is stored\n",
    "data=pd.read_csv(\"/home/pawan/Desktop/train.csv\").values ## values convert pandas dataframe into 2D numpy array\n",
    "clas=DecisionTreeClassifier()\n",
    "\n",
    "#training dataset\n",
    "x_train=data[0:21000, 1:]\n",
    "y_train=data[0:21000, 0]\n",
    "\n",
    "clas.fit(x_train, y_train)\n",
    "\n",
    "#testing data\n",
    "x_test=data[21000:,1:]\n",
    "y_test=data[21000:,0]\n",
    "\n",
    "pr = clas.predict(x_test)\n",
    "\n",
    "count=0\n",
    "\n",
    "for i in range(0,21000):\n",
    "    count += 1 if pr[i] ==y_test[i] else 0\n",
    "print(\"Accuracy=\", (count/21000)*100)\n",
    "\n",
    "sam=x_test[9]\n",
    "sam.shape=(28,28)\n",
    "plt.imshow(255-sam, cmap='gray')\n",
    "print(clas.predict([x_test[9]]))\n",
    "plt.show()\n"
   ]
  },
  {
   "cell_type": "code",
   "execution_count": null,
   "metadata": {},
   "outputs": [],
   "source": []
  }
 ],
 "metadata": {
  "kernelspec": {
   "display_name": "Python 3",
   "language": "python",
   "name": "python3"
  },
  "language_info": {
   "codemirror_mode": {
    "name": "ipython",
    "version": 3
   },
   "file_extension": ".py",
   "mimetype": "text/x-python",
   "name": "python",
   "nbconvert_exporter": "python",
   "pygments_lexer": "ipython3",
   "version": "3.6.8"
  }
 },
 "nbformat": 4,
 "nbformat_minor": 2
}
